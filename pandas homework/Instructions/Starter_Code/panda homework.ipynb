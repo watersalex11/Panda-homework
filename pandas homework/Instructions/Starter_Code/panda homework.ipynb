{
 "cells": [
  {
   "cell_type": "code",
   "execution_count": 11,
   "metadata": {},
   "outputs": [],
   "source": [
    "#import pandas\n",
    "import pandas as pd\n",
    "import numpy as np\n",
    "import datetime as dt\n",
    "from path import Path\n",
    "%matplotlib inline"
   ]
  },
  {
   "cell_type": "code",
   "execution_count": 77,
   "metadata": {},
   "outputs": [],
   "source": [
    "#read files as pandas data frame\n",
    "aapl_csv = Path('../Starter_Code/Resources/aapl_historical.csv')\n",
    "algo_csv = Path('../Starter_Code/Resources/algo_returns.csv') \n",
    "cost_csv = Path('../Starter_Code/Resources/cost_historical.csv')\n",
    "goog_csv = Path('../Starter_Code/Resources/goog_historical.csv') \n",
    "sp500_csv = Path('../Starter_Code/Resources/sp500_history.csv') \n",
    "whale_csv = Path('../Starter_Code/Resources/whale_returns.csv')\n",
    "\n",
    "aapl_df = pd.read_csv(aapl_csv, index_col = 'Trade DATE',parse_dates = True, infer_datetime_format=True)\n",
    "algo_df = pd.read_csv(algo_csv, index_col = 'Date',parse_dates = True,infer_datetime_format=True)\n",
    "cost_df = pd.read_csv(cost_csv, index_col = 'Trade DATE',parse_dates = True,infer_datetime_format=True)\n",
    "goog_df = pd.read_csv(goog_csv, index_col = 'Trade DATE',parse_dates = True,infer_datetime_format=True)\n",
    "sp500_df = pd.read_csv(sp500_csv,index_col = 'Date',parse_dates = True, infer_datetime_format=True)\n",
    "whale_df = pd.read_csv(whale_csv, index_col = 'Date',parse_dates = True,infer_datetime_format=True)\n",
    "\n",
    "#aapl_df.head()\n",
    "#algo_df.head()\n",
    "#cost_df.head()\n",
    "#goog_df.head()\n",
    "#sp500_df.head()\n",
    "#whale_df.head()"
   ]
  },
  {
   "cell_type": "code",
   "execution_count": null,
   "metadata": {},
   "outputs": [],
   "source": [
    "#check count of nulls\n",
    "#aapl_df.isnull().sum()\n",
    "#algo_df.isnull().sum()\n",
    "#cost_df.isnull().sum()\n",
    "#goog_df.isnull().sum()\n",
    "#sp500_df.isnull().sum()\n",
    "#whale_df.isnull().sum()"
   ]
  },
  {
   "cell_type": "code",
   "execution_count": 51,
   "metadata": {},
   "outputs": [],
   "source": [
    "#detect and remove nullls\n",
    "aapl_df.isnull().dropna(inplace=True)\n",
    "algo_df.isnull().dropna(inplace=True)\n",
    "cost_df.isnull().dropna(inplace=True)\n",
    "goog_df.isnull().dropna(inplace=True)\n",
    "sp500_df.isnull().dropna(inplace=True)\n",
    "whale_df.isnull().dropna(inplace=True)\n",
    "\n"
   ]
  },
  {
   "cell_type": "code",
   "execution_count": 54,
   "metadata": {},
   "outputs": [
    {
     "data": {
      "text/plain": [
       "Date\n",
       "2019-04-23    2933.68\n",
       "2019-04-22    2907.97\n",
       "2019-04-18    2905.03\n",
       "2019-04-17    2900.45\n",
       "2019-04-16    2907.06\n",
       "               ...   \n",
       "2012-10-05    1460.93\n",
       "2012-10-04    1461.40\n",
       "2012-10-03    1450.99\n",
       "2012-10-02    1445.75\n",
       "2012-10-01    1444.49\n",
       "Name: Close, Length: 1649, dtype: object"
      ]
     },
     "execution_count": 54,
     "metadata": {},
     "output_type": "execute_result"
    }
   ],
   "source": [
    "#remove sympols ($) from sp500\n",
    "sp500_df['Close'] = sp500_df['Close'].str.replace('$', '')\n",
    "sp500_df['Close']"
   ]
  },
  {
   "cell_type": "code",
   "execution_count": 69,
   "metadata": {},
   "outputs": [
    {
     "data": {
      "text/plain": [
       "Close    float64\n",
       "dtype: object"
      ]
     },
     "execution_count": 69,
     "metadata": {},
     "output_type": "execute_result"
    }
   ],
   "source": [
    "#check data types and concevert to floats if needed\n",
    "#aapl_df.dtypes\n",
    "#lgo_df.dtypes\n",
    "#cost_df.dtypes\n",
    "#goog_df.dtypes\n",
    "#close in sp500 need to be a float\n",
    "#sp500_df.dtypes\n",
    "whale_df.dtypes\n",
    "#check converstion to float from object\n",
    "sp500_df['Close']= sp500_df['Close'].astype('float')\n",
    "sp500_df.head()\n",
    "sp500_df.dtypes\n"
   ]
  },
  {
   "cell_type": "code",
   "execution_count": null,
   "metadata": {},
   "outputs": [],
   "source": []
  }
 ],
 "metadata": {
  "kernelspec": {
   "display_name": "Python 3",
   "language": "python",
   "name": "python3"
  },
  "language_info": {
   "codemirror_mode": {
    "name": "ipython",
    "version": 3
   },
   "file_extension": ".py",
   "mimetype": "text/x-python",
   "name": "python",
   "nbconvert_exporter": "python",
   "pygments_lexer": "ipython3",
   "version": "3.7.7"
  }
 },
 "nbformat": 4,
 "nbformat_minor": 4
}
